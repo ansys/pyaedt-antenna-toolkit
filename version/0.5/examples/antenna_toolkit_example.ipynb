{
 "cells": [
  {
   "cell_type": "markdown",
   "id": "961be85f",
   "metadata": {
    "lines_to_next_cell": 2
   },
   "source": [
    "# Antenna toolkit example\n",
    "\n",
    "This example demonstrates how to use the ``ToolkitBackend`` class.\n",
    "It initiates AEDT through PyAEDT, sets up an empty HFSS design, and proceeds to create the antenna."
   ]
  },
  {
   "cell_type": "markdown",
   "id": "205009c7",
   "metadata": {},
   "source": [
    "## Perform required imports"
   ]
  },
  {
   "cell_type": "code",
   "execution_count": 1,
   "id": "406d000b",
   "metadata": {
    "execution": {
     "iopub.execute_input": "2025-02-23T12:42:16.674725Z",
     "iopub.status.busy": "2025-02-23T12:42:16.674725Z",
     "iopub.status.idle": "2025-02-23T12:42:16.706018Z",
     "shell.execute_reply": "2025-02-23T12:42:16.706018Z"
    }
   },
   "outputs": [],
   "source": [
    "import sys\n",
    "import tempfile"
   ]
  },
  {
   "cell_type": "code",
   "execution_count": 2,
   "id": "7cf77822",
   "metadata": {
    "execution": {
     "iopub.execute_input": "2025-02-23T12:42:16.706018Z",
     "iopub.status.busy": "2025-02-23T12:42:16.706018Z",
     "iopub.status.idle": "2025-02-23T12:42:24.440573Z",
     "shell.execute_reply": "2025-02-23T12:42:24.440573Z"
    }
   },
   "outputs": [],
   "source": [
    "from ansys.aedt.core import generate_unique_project_name\n",
    "from ansys.aedt.core.visualization.advanced.farfield_visualization import FfdSolutionData"
   ]
  },
  {
   "cell_type": "code",
   "execution_count": 3,
   "id": "0c0ad843",
   "metadata": {
    "execution": {
     "iopub.execute_input": "2025-02-23T12:42:24.440573Z",
     "iopub.status.busy": "2025-02-23T12:42:24.440573Z",
     "iopub.status.idle": "2025-02-23T12:42:24.831187Z",
     "shell.execute_reply": "2025-02-23T12:42:24.831187Z"
    }
   },
   "outputs": [],
   "source": [
    "from ansys.aedt.toolkits.antenna.backend.api import ToolkitBackend\n",
    "from ansys.aedt.toolkits.antenna.backend.models import properties"
   ]
  },
  {
   "cell_type": "markdown",
   "id": "5f57788c",
   "metadata": {},
   "source": [
    "##  Set AEDT version\n",
    "\n",
    "Set AEDT version."
   ]
  },
  {
   "cell_type": "code",
   "execution_count": 4,
   "id": "607499c4",
   "metadata": {
    "execution": {
     "iopub.execute_input": "2025-02-23T12:42:24.831187Z",
     "iopub.status.busy": "2025-02-23T12:42:24.831187Z",
     "iopub.status.idle": "2025-02-23T12:42:24.846812Z",
     "shell.execute_reply": "2025-02-23T12:42:24.846812Z"
    }
   },
   "outputs": [],
   "source": [
    "aedt_version = \"2024.2\""
   ]
  },
  {
   "cell_type": "markdown",
   "id": "c6362e5a",
   "metadata": {},
   "source": [
    "## Set non-graphical mode\n",
    "\n",
    "Set non-graphical mode."
   ]
  },
  {
   "cell_type": "code",
   "execution_count": 5,
   "id": "ec92ee7e",
   "metadata": {
    "execution": {
     "iopub.execute_input": "2025-02-23T12:42:24.846812Z",
     "iopub.status.busy": "2025-02-23T12:42:24.846812Z",
     "iopub.status.idle": "2025-02-23T12:42:24.862435Z",
     "shell.execute_reply": "2025-02-23T12:42:24.862435Z"
    }
   },
   "outputs": [],
   "source": [
    "non_graphical = True"
   ]
  },
  {
   "cell_type": "markdown",
   "id": "4b98b21e",
   "metadata": {},
   "source": [
    "## Create temporary directory"
   ]
  },
  {
   "cell_type": "code",
   "execution_count": 6,
   "id": "8187ab28",
   "metadata": {
    "execution": {
     "iopub.execute_input": "2025-02-23T12:42:24.862435Z",
     "iopub.status.busy": "2025-02-23T12:42:24.862435Z",
     "iopub.status.idle": "2025-02-23T12:42:24.878062Z",
     "shell.execute_reply": "2025-02-23T12:42:24.878062Z"
    }
   },
   "outputs": [],
   "source": [
    "temp_dir = tempfile.TemporaryDirectory(suffix=\"_ansys\")\n",
    "project_name = generate_unique_project_name(root_name=temp_dir.name, project_name=\"antenna_toolkit\")"
   ]
  },
  {
   "cell_type": "markdown",
   "id": "e6048af6",
   "metadata": {},
   "source": [
    "## Set default properties"
   ]
  },
  {
   "cell_type": "code",
   "execution_count": 7,
   "id": "2ace0943",
   "metadata": {
    "execution": {
     "iopub.execute_input": "2025-02-23T12:42:24.878062Z",
     "iopub.status.busy": "2025-02-23T12:42:24.878062Z",
     "iopub.status.idle": "2025-02-23T12:42:24.893727Z",
     "shell.execute_reply": "2025-02-23T12:42:24.893727Z"
    }
   },
   "outputs": [],
   "source": [
    "properties.aedt_version = aedt_version\n",
    "properties.non_graphical = non_graphical\n",
    "properties.active_project = project_name"
   ]
  },
  {
   "cell_type": "markdown",
   "id": "171d4f34",
   "metadata": {},
   "source": [
    "## Initialize toolkit\n",
    "\n",
    "Initialize the toolkit."
   ]
  },
  {
   "cell_type": "code",
   "execution_count": 8,
   "id": "4dc71afa",
   "metadata": {
    "execution": {
     "iopub.execute_input": "2025-02-23T12:42:24.893727Z",
     "iopub.status.busy": "2025-02-23T12:42:24.893727Z",
     "iopub.status.idle": "2025-02-23T12:42:24.909351Z",
     "shell.execute_reply": "2025-02-23T12:42:24.909351Z"
    }
   },
   "outputs": [],
   "source": [
    "toolkit_api = ToolkitBackend()"
   ]
  },
  {
   "cell_type": "markdown",
   "id": "dbf320a8",
   "metadata": {},
   "source": [
    "## Get available_antennas"
   ]
  },
  {
   "cell_type": "code",
   "execution_count": 9,
   "id": "400b49e0",
   "metadata": {
    "execution": {
     "iopub.execute_input": "2025-02-23T12:42:24.909351Z",
     "iopub.status.busy": "2025-02-23T12:42:24.909351Z",
     "iopub.status.idle": "2025-02-23T12:42:24.924973Z",
     "shell.execute_reply": "2025-02-23T12:42:24.924973Z"
    }
   },
   "outputs": [
    {
     "name": "stdout",
     "output_type": "stream",
     "text": [
      "['BowTieNormal', 'BowTieRounded', 'BowTieSlot', 'Archimedean', 'Log', 'Sinuous', 'AxialMode', 'Conical', 'Corrugated', 'EPlane', 'Elliptical', 'HPlane', 'Pyramidal', 'PyramidalRidged', 'QuadRidged', 'RectangularPatchEdge', 'RectangularPatchInset', 'RectangularPatchProbe']\n"
     ]
    }
   ],
   "source": [
    "print(toolkit_api.available_antennas)"
   ]
  },
  {
   "cell_type": "markdown",
   "id": "f5ca7220",
   "metadata": {},
   "source": [
    "## Get default properties"
   ]
  },
  {
   "cell_type": "code",
   "execution_count": 10,
   "id": "9070b50a",
   "metadata": {
    "execution": {
     "iopub.execute_input": "2025-02-23T12:42:24.924973Z",
     "iopub.status.busy": "2025-02-23T12:42:24.924973Z",
     "iopub.status.idle": "2025-02-23T12:42:24.940566Z",
     "shell.execute_reply": "2025-02-23T12:42:24.940566Z"
    }
   },
   "outputs": [],
   "source": [
    "backend_properties = toolkit_api.get_properties()\n",
    "frequency = backend_properties[\"antenna\"][\"synthesis\"][\"frequency\"]\n",
    "frequency_units = backend_properties[\"antenna\"][\"synthesis\"][\"frequency_unit\"]\n",
    "length_unit = backend_properties[\"antenna\"][\"synthesis\"][\"length_unit\"]"
   ]
  },
  {
   "cell_type": "markdown",
   "id": "4da04124",
   "metadata": {},
   "source": [
    "## Modify default length units"
   ]
  },
  {
   "cell_type": "code",
   "execution_count": 11,
   "id": "bcb4f44a",
   "metadata": {
    "execution": {
     "iopub.execute_input": "2025-02-23T12:42:24.940566Z",
     "iopub.status.busy": "2025-02-23T12:42:24.940566Z",
     "iopub.status.idle": "2025-02-23T12:42:24.956239Z",
     "shell.execute_reply": "2025-02-23T12:42:24.956239Z"
    }
   },
   "outputs": [],
   "source": [
    "properties.antenna.synthesis.length_unit = \"cm\""
   ]
  },
  {
   "cell_type": "markdown",
   "id": "119d0a22",
   "metadata": {},
   "source": [
    "## Create antenna object only for synthesis\n",
    "\n",
    "Create antenna object."
   ]
  },
  {
   "cell_type": "code",
   "execution_count": 12,
   "id": "a07bed9e",
   "metadata": {
    "execution": {
     "iopub.execute_input": "2025-02-23T12:42:24.956239Z",
     "iopub.status.busy": "2025-02-23T12:42:24.956239Z",
     "iopub.status.idle": "2025-02-23T12:42:25.143691Z",
     "shell.execute_reply": "2025-02-23T12:42:25.143691Z"
    }
   },
   "outputs": [
    {
     "name": "stderr",
     "output_type": "stream",
     "text": [
      "INFO - AEDT is released.\n"
     ]
    }
   ],
   "source": [
    "antenna_parameters_1 = toolkit_api.get_antenna(\"RectangularPatchProbe\", synth_only=True)"
   ]
  },
  {
   "cell_type": "code",
   "execution_count": 13,
   "id": "20d205fd",
   "metadata": {
    "execution": {
     "iopub.execute_input": "2025-02-23T12:42:25.143691Z",
     "iopub.status.busy": "2025-02-23T12:42:25.143691Z",
     "iopub.status.idle": "2025-02-23T12:42:25.159318Z",
     "shell.execute_reply": "2025-02-23T12:42:25.159318Z"
    }
   },
   "outputs": [
    {
     "name": "stdout",
     "output_type": "stream",
     "text": [
      "Patch X length: 0.912871meter at 10.0GHz\n"
     ]
    }
   ],
   "source": [
    "print(\n",
    "    \"Patch X length: {}{} at {}{}\".format(\n",
    "        str(antenna_parameters_1[\"patch_x\"]),\n",
    "        length_unit,\n",
    "        frequency,\n",
    "        frequency_units,\n",
    "    )\n",
    ")"
   ]
  },
  {
   "cell_type": "markdown",
   "id": "928916a5",
   "metadata": {},
   "source": [
    "## Change synthesis frequency\n",
    "\n",
    "Modify resonance frequency and modify parameters with the ``set_properties()`` method."
   ]
  },
  {
   "cell_type": "code",
   "execution_count": 14,
   "id": "11ac3db1",
   "metadata": {
    "execution": {
     "iopub.execute_input": "2025-02-23T12:42:25.159318Z",
     "iopub.status.busy": "2025-02-23T12:42:25.159318Z",
     "iopub.status.idle": "2025-02-23T12:42:25.174891Z",
     "shell.execute_reply": "2025-02-23T12:42:25.174891Z"
    }
   },
   "outputs": [
    {
     "name": "stderr",
     "output_type": "stream",
     "text": [
      "INFO - Updating internal properties.\n"
     ]
    },
    {
     "name": "stderr",
     "output_type": "stream",
     "text": [
      "DEBUG - Updating 'frequency' with value 12.0\n"
     ]
    },
    {
     "name": "stderr",
     "output_type": "stream",
     "text": [
      "DEBUG - Properties were updated successfully.\n"
     ]
    },
    {
     "data": {
      "text/plain": [
       "(True, 'Properties were updated successfully.')"
      ]
     },
     "execution_count": 14,
     "metadata": {},
     "output_type": "execute_result"
    }
   ],
   "source": [
    "new_frequency1 = 12.0\n",
    "new_properties = {\"frequency\": new_frequency1}\n",
    "toolkit_api.set_properties(new_properties)"
   ]
  },
  {
   "cell_type": "code",
   "execution_count": 15,
   "id": "f4c8c9dc",
   "metadata": {
    "execution": {
     "iopub.execute_input": "2025-02-23T12:42:25.174891Z",
     "iopub.status.busy": "2025-02-23T12:42:25.174891Z",
     "iopub.status.idle": "2025-02-23T12:42:25.346822Z",
     "shell.execute_reply": "2025-02-23T12:42:25.346822Z"
    }
   },
   "outputs": [
    {
     "name": "stderr",
     "output_type": "stream",
     "text": [
      "INFO - AEDT is released.\n"
     ]
    }
   ],
   "source": [
    "antenna_parameters_2 = toolkit_api.get_antenna(\"RectangularPatchProbe\", synth_only=True)"
   ]
  },
  {
   "cell_type": "code",
   "execution_count": 16,
   "id": "97e08039",
   "metadata": {
    "execution": {
     "iopub.execute_input": "2025-02-23T12:42:25.346822Z",
     "iopub.status.busy": "2025-02-23T12:42:25.346822Z",
     "iopub.status.idle": "2025-02-23T12:42:25.362491Z",
     "shell.execute_reply": "2025-02-23T12:42:25.362491Z"
    }
   },
   "outputs": [
    {
     "name": "stdout",
     "output_type": "stream",
     "text": [
      "Patch X length: 0.760726meter at 12.0GHz\n"
     ]
    }
   ],
   "source": [
    "print(\n",
    "    \"Patch X length: {}{} at {}{}\".format(\n",
    "        str(antenna_parameters_2[\"patch_x\"]),\n",
    "        length_unit,\n",
    "        new_frequency1,\n",
    "        frequency_units,\n",
    "    )\n",
    ")"
   ]
  },
  {
   "cell_type": "markdown",
   "id": "ebe9068c",
   "metadata": {},
   "source": [
    "## Change synthesis frequency\n",
    "\n",
    "Modify resonance frequency with properties directly."
   ]
  },
  {
   "cell_type": "code",
   "execution_count": 17,
   "id": "71de00ea",
   "metadata": {
    "execution": {
     "iopub.execute_input": "2025-02-23T12:42:25.362491Z",
     "iopub.status.busy": "2025-02-23T12:42:25.362491Z",
     "iopub.status.idle": "2025-02-23T12:42:25.378077Z",
     "shell.execute_reply": "2025-02-23T12:42:25.378077Z"
    }
   },
   "outputs": [],
   "source": [
    "new_frequency2 = 15.0\n",
    "properties.antenna.synthesis.frequency = new_frequency2"
   ]
  },
  {
   "cell_type": "code",
   "execution_count": 18,
   "id": "63c42c3f",
   "metadata": {
    "execution": {
     "iopub.execute_input": "2025-02-23T12:42:25.378077Z",
     "iopub.status.busy": "2025-02-23T12:42:25.378077Z",
     "iopub.status.idle": "2025-02-23T12:42:25.549901Z",
     "shell.execute_reply": "2025-02-23T12:42:25.549901Z"
    }
   },
   "outputs": [
    {
     "name": "stderr",
     "output_type": "stream",
     "text": [
      "INFO - AEDT is released.\n"
     ]
    }
   ],
   "source": [
    "antenna_parameters_3 = toolkit_api.get_antenna(\"RectangularPatchProbe\", synth_only=True)"
   ]
  },
  {
   "cell_type": "code",
   "execution_count": 19,
   "id": "b7a54a5d",
   "metadata": {
    "execution": {
     "iopub.execute_input": "2025-02-23T12:42:25.549901Z",
     "iopub.status.busy": "2025-02-23T12:42:25.549901Z",
     "iopub.status.idle": "2025-02-23T12:42:25.565595Z",
     "shell.execute_reply": "2025-02-23T12:42:25.565595Z"
    }
   },
   "outputs": [
    {
     "name": "stdout",
     "output_type": "stream",
     "text": [
      "Patch X length: 0.608581meter at 15.0GHz\n"
     ]
    }
   ],
   "source": [
    "print(\n",
    "    \"Patch X length: {}{} at {}{}\".format(\n",
    "        str(antenna_parameters_3[\"patch_x\"]),\n",
    "        length_unit,\n",
    "        new_frequency2,\n",
    "        frequency_units,\n",
    "    )\n",
    ")"
   ]
  },
  {
   "cell_type": "markdown",
   "id": "e1452d62",
   "metadata": {},
   "source": [
    "## Initialize AEDT\n",
    "\n",
    "Launch a new AEDT session in a thread."
   ]
  },
  {
   "cell_type": "code",
   "execution_count": 20,
   "id": "0f1c8bb1",
   "metadata": {
    "execution": {
     "iopub.execute_input": "2025-02-23T12:42:25.565595Z",
     "iopub.status.busy": "2025-02-23T12:42:25.565595Z",
     "iopub.status.idle": "2025-02-23T12:42:25.581158Z",
     "shell.execute_reply": "2025-02-23T12:42:25.581158Z"
    }
   },
   "outputs": [
    {
     "name": "stderr",
     "output_type": "stream",
     "text": [
      "DEBUG - Starting thread: Toolkit_Thread\n"
     ]
    },
    {
     "name": "stderr",
     "output_type": "stream",
     "text": [
      "DEBUG - Toolkit is not connected to AEDT.\n"
     ]
    },
    {
     "name": "stderr",
     "output_type": "stream",
     "text": [
      "DEBUG - Launching AEDT.\n"
     ]
    },
    {
     "name": "stdout",
     "output_type": "stream",
     "text": [
      "PyAEDT INFO: Python version 3.10.11 (tags/v3.10.11:7d4cc5a, Apr  5 2023, 00:38:17) [MSC v.1929 64 bit (AMD64)].\n"
     ]
    }
   ],
   "source": [
    "thread_msg = toolkit_api.launch_thread(toolkit_api.launch_aedt)"
   ]
  },
  {
   "cell_type": "markdown",
   "id": "2a757271",
   "metadata": {},
   "source": [
    "## Wait for the toolkit thread to be idle\n",
    "\n",
    "Wait for the toolkit thread to be idle and ready to accept a new task."
   ]
  },
  {
   "cell_type": "code",
   "execution_count": 21,
   "id": "97897801",
   "metadata": {
    "execution": {
     "iopub.execute_input": "2025-02-23T12:42:25.581158Z",
     "iopub.status.busy": "2025-02-23T12:42:25.581158Z",
     "iopub.status.idle": "2025-02-23T12:42:43.708046Z",
     "shell.execute_reply": "2025-02-23T12:42:43.708046Z"
    }
   },
   "outputs": [
    {
     "name": "stderr",
     "output_type": "stream",
     "text": [
      "DEBUG - Toolkit is busy and processing a task.\n"
     ]
    },
    {
     "name": "stderr",
     "output_type": "stream",
     "text": [
      "DEBUG - Toolkit is busy and processing a task.\n"
     ]
    },
    {
     "name": "stderr",
     "output_type": "stream",
     "text": [
      "DEBUG - Toolkit is busy and processing a task.\n"
     ]
    },
    {
     "name": "stderr",
     "output_type": "stream",
     "text": [
      "DEBUG - Toolkit is busy and processing a task.\n"
     ]
    },
    {
     "name": "stderr",
     "output_type": "stream",
     "text": [
      "DEBUG - Toolkit is busy and processing a task.\n"
     ]
    },
    {
     "name": "stderr",
     "output_type": "stream",
     "text": [
      "DEBUG - Toolkit is busy and processing a task.\n"
     ]
    },
    {
     "name": "stderr",
     "output_type": "stream",
     "text": [
      "DEBUG - Toolkit is busy and processing a task.\n"
     ]
    },
    {
     "name": "stderr",
     "output_type": "stream",
     "text": [
      "DEBUG - Toolkit is busy and processing a task.\n"
     ]
    },
    {
     "name": "stderr",
     "output_type": "stream",
     "text": [
      "DEBUG - Toolkit is busy and processing a task.\n"
     ]
    },
    {
     "name": "stderr",
     "output_type": "stream",
     "text": [
      "DEBUG - Toolkit is busy and processing a task.\n"
     ]
    },
    {
     "name": "stderr",
     "output_type": "stream",
     "text": [
      "DEBUG - Toolkit is busy and processing a task.\n"
     ]
    },
    {
     "name": "stderr",
     "output_type": "stream",
     "text": [
      "DEBUG - Toolkit is busy and processing a task.\n"
     ]
    },
    {
     "name": "stderr",
     "output_type": "stream",
     "text": [
      "DEBUG - Toolkit is busy and processing a task.\n"
     ]
    },
    {
     "name": "stderr",
     "output_type": "stream",
     "text": [
      "DEBUG - Toolkit is busy and processing a task.\n"
     ]
    },
    {
     "name": "stderr",
     "output_type": "stream",
     "text": [
      "DEBUG - Toolkit is busy and processing a task.\n"
     ]
    },
    {
     "name": "stderr",
     "output_type": "stream",
     "text": [
      "DEBUG - Toolkit is busy and processing a task.\n"
     ]
    },
    {
     "name": "stderr",
     "output_type": "stream",
     "text": [
      "DEBUG - Toolkit is busy and processing a task.\n"
     ]
    },
    {
     "name": "stderr",
     "output_type": "stream",
     "text": [
      "DEBUG - Toolkit is idle and ready to accept a new task.\n"
     ]
    }
   ],
   "source": [
    "idle = toolkit_api.wait_to_be_idle()\n",
    "if not idle:\n",
    "    print(\"AEDT not initialized.\")\n",
    "    sys.exit()"
   ]
  },
  {
   "cell_type": "markdown",
   "id": "ee617164",
   "metadata": {},
   "source": [
    "## Connect to HFSS design\n",
    "\n",
    "Create an HFSS design."
   ]
  },
  {
   "cell_type": "code",
   "execution_count": 22,
   "id": "8df1ad6a",
   "metadata": {
    "execution": {
     "iopub.execute_input": "2025-02-23T12:42:43.708046Z",
     "iopub.status.busy": "2025-02-23T12:42:43.708046Z",
     "iopub.status.idle": "2025-02-23T12:43:20.303005Z",
     "shell.execute_reply": "2025-02-23T12:43:20.303005Z"
    }
   },
   "outputs": [
    {
     "name": "stderr",
     "output_type": "stream",
     "text": [
      "DEBUG - Toolkit is not connected to AEDT.\n"
     ]
    },
    {
     "name": "stderr",
     "output_type": "stream",
     "text": [
      "DEBUG - Connecting AEDT.\n"
     ]
    },
    {
     "name": "stdout",
     "output_type": "stream",
     "text": [
      "PyAEDT INFO: Python version 3.10.11 (tags/v3.10.11:7d4cc5a, Apr  5 2023, 00:38:17) [MSC v.1929 64 bit (AMD64)].\n"
     ]
    },
    {
     "name": "stdout",
     "output_type": "stream",
     "text": [
      "PyAEDT INFO: PyAEDT version 0.14.1.\n"
     ]
    },
    {
     "name": "stdout",
     "output_type": "stream",
     "text": [
      "PyAEDT INFO: Initializing new Desktop session.\n"
     ]
    },
    {
     "name": "stdout",
     "output_type": "stream",
     "text": [
      "PyAEDT WARNING: Argument `specified_version` is deprecated for method `__init__`; use `version` instead.\n"
     ]
    },
    {
     "name": "stdout",
     "output_type": "stream",
     "text": [
      "PyAEDT WARNING: Argument `new_desktop_session` is deprecated for method `__init__`; use `new_desktop` instead.\n"
     ]
    },
    {
     "name": "stdout",
     "output_type": "stream",
     "text": [
      "PyAEDT INFO: Log on console is enabled.\n"
     ]
    },
    {
     "name": "stdout",
     "output_type": "stream",
     "text": [
      "PyAEDT INFO: Log on file C:\\Users\\ansys\\AppData\\Local\\Temp\\pyaedt_ansys_c0306ed8-17dc-4f02-9eaf-d45c6e9d9f9e.log is enabled.\n"
     ]
    },
    {
     "name": "stdout",
     "output_type": "stream",
     "text": [
      "PyAEDT INFO: Log on AEDT is disabled.\n"
     ]
    },
    {
     "name": "stdout",
     "output_type": "stream",
     "text": [
      "PyAEDT INFO: Debug logger is disabled. PyAEDT methods will not be logged.\n"
     ]
    },
    {
     "name": "stdout",
     "output_type": "stream",
     "text": [
      "PyAEDT INFO: Launching PyAEDT with gRPC plugin.\n"
     ]
    },
    {
     "name": "stdout",
     "output_type": "stream",
     "text": [
      "PyAEDT INFO: Connecting to AEDT session on gRPC port 49639.\n"
     ]
    },
    {
     "name": "stdout",
     "output_type": "stream",
     "text": [
      "PyAEDT INFO: AEDT installation Path C:\\Program Files\\AnsysEM\\v242\\Win64\n"
     ]
    },
    {
     "name": "stderr",
     "output_type": "stream",
     "text": [
      "DEBUG - Toolkit is connected to AEDT.\n"
     ]
    },
    {
     "name": "stdout",
     "output_type": "stream",
     "text": [
      "PyAEDT WARNING: Argument `designname` is deprecated for method `__init__`; use `design` instead.\n"
     ]
    },
    {
     "name": "stdout",
     "output_type": "stream",
     "text": [
      "PyAEDT WARNING: Argument `projectname` is deprecated for method `__init__`; use `project` instead.\n"
     ]
    },
    {
     "name": "stdout",
     "output_type": "stream",
     "text": [
      "PyAEDT WARNING: Argument `specified_version` is deprecated for method `__init__`; use `version` instead.\n"
     ]
    },
    {
     "name": "stdout",
     "output_type": "stream",
     "text": [
      "PyAEDT WARNING: Argument `new_desktop_session` is deprecated for method `__init__`; use `new_desktop` instead.\n"
     ]
    },
    {
     "name": "stdout",
     "output_type": "stream",
     "text": [
      "PyAEDT INFO: Python version 3.10.11 (tags/v3.10.11:7d4cc5a, Apr  5 2023, 00:38:17) [MSC v.1929 64 bit (AMD64)].\n"
     ]
    },
    {
     "name": "stdout",
     "output_type": "stream",
     "text": [
      "PyAEDT INFO: PyAEDT version 0.14.1.\n"
     ]
    },
    {
     "name": "stdout",
     "output_type": "stream",
     "text": [
      "PyAEDT INFO: Returning found Desktop session with PID 1920!\n"
     ]
    },
    {
     "name": "stdout",
     "output_type": "stream",
     "text": [
      "PyAEDT INFO: Project antenna_toolkit has been created.\n"
     ]
    },
    {
     "name": "stdout",
     "output_type": "stream",
     "text": [
      "PyAEDT INFO: Added design 'HFSS_BXU8KQ' of type HFSS.\n"
     ]
    },
    {
     "name": "stdout",
     "output_type": "stream",
     "text": [
      "PyAEDT INFO: Aedt Objects correctly read\n"
     ]
    },
    {
     "name": "stdout",
     "output_type": "stream",
     "text": [
      "PyAEDT INFO: Project antenna_toolkit Saved correctly\n"
     ]
    },
    {
     "name": "stderr",
     "output_type": "stream",
     "text": [
      "DEBUG - Project name: antenna_toolkit\n"
     ]
    },
    {
     "name": "stderr",
     "output_type": "stream",
     "text": [
      "INFO - Updating internal properties.\n"
     ]
    },
    {
     "name": "stderr",
     "output_type": "stream",
     "text": [
      "DEBUG - Updating 'project_list' with value ['C:/Users/ansys/AppData/Local/Temp/tmp0tz1p5vm_ansys/pyaedt_prj_N21/antenna_toolkit.aedt']\n"
     ]
    },
    {
     "name": "stderr",
     "output_type": "stream",
     "text": [
      "DEBUG - Updating 'active_design' with value HFSS_BXU8KQ\n"
     ]
    },
    {
     "name": "stderr",
     "output_type": "stream",
     "text": [
      "DEBUG - Updating 'active_project' with value C:/Users/ansys/AppData/Local/Temp/tmp0tz1p5vm_ansys/pyaedt_prj_N21/antenna_toolkit.aedt\n"
     ]
    },
    {
     "name": "stderr",
     "output_type": "stream",
     "text": [
      "DEBUG - Updating 'design_list' with value {'antenna_toolkit': ['HFSS_BXU8KQ']}\n"
     ]
    },
    {
     "name": "stderr",
     "output_type": "stream",
     "text": [
      "DEBUG - Properties were updated successfully.\n"
     ]
    },
    {
     "name": "stderr",
     "output_type": "stream",
     "text": [
      "INFO - Toolkit is connected to AEDT design.\n"
     ]
    },
    {
     "data": {
      "text/plain": [
       "True"
      ]
     },
     "execution_count": 22,
     "metadata": {},
     "output_type": "execute_result"
    }
   ],
   "source": [
    "toolkit_api.connect_design(\"HFSS\")"
   ]
  },
  {
   "cell_type": "markdown",
   "id": "80e9e65d",
   "metadata": {},
   "source": [
    "## Create setup when antenna is created\n",
    "\n",
    "Set ``create_setup`` property."
   ]
  },
  {
   "cell_type": "code",
   "execution_count": 23,
   "id": "886eeb30",
   "metadata": {
    "execution": {
     "iopub.execute_input": "2025-02-23T12:43:20.303005Z",
     "iopub.status.busy": "2025-02-23T12:43:20.303005Z",
     "iopub.status.idle": "2025-02-23T12:43:20.318634Z",
     "shell.execute_reply": "2025-02-23T12:43:20.318634Z"
    }
   },
   "outputs": [],
   "source": [
    "properties.antenna.setup.create_setup = True\n",
    "properties.antenna.synthesis.outer_boundary = \"Radiation\""
   ]
  },
  {
   "cell_type": "markdown",
   "id": "56853356",
   "metadata": {},
   "source": [
    "## Create antenna in HFSS\n",
    "\n",
    "Create antenna and set up in HFSS."
   ]
  },
  {
   "cell_type": "code",
   "execution_count": 24,
   "id": "a0b10060",
   "metadata": {
    "execution": {
     "iopub.execute_input": "2025-02-23T12:43:20.318634Z",
     "iopub.status.busy": "2025-02-23T12:43:20.318634Z",
     "iopub.status.idle": "2025-02-23T12:43:25.031766Z",
     "shell.execute_reply": "2025-02-23T12:43:25.031766Z"
    }
   },
   "outputs": [
    {
     "name": "stdout",
     "output_type": "stream",
     "text": [
      "PyAEDT INFO: Modeler class has been initialized! Elapsed time: 0m 0sec\n"
     ]
    },
    {
     "name": "stdout",
     "output_type": "stream",
     "text": [
      "PyAEDT INFO: Materials class has been initialized! Elapsed time: 0m 0sec\n"
     ]
    },
    {
     "name": "stdout",
     "output_type": "stream",
     "text": [
      "PyAEDT INFO: Open Region correctly created.\n"
     ]
    },
    {
     "name": "stdout",
     "output_type": "stream",
     "text": [
      "PyAEDT INFO: Project antenna_toolkit Saved correctly\n"
     ]
    },
    {
     "name": "stdout",
     "output_type": "stream",
     "text": [
      "PyAEDT WARNING: Property Command is read-only.\n"
     ]
    },
    {
     "name": "stdout",
     "output_type": "stream",
     "text": [
      "PyAEDT WARNING: Property Command is read-only.\n"
     ]
    },
    {
     "name": "stdout",
     "output_type": "stream",
     "text": [
      "PyAEDT WARNING: Property Command is read-only.\n"
     ]
    },
    {
     "name": "stdout",
     "output_type": "stream",
     "text": [
      "PyAEDT WARNING: Argument `cs_plane` is deprecated for method `create_circle`; use `orientation` instead.\n"
     ]
    },
    {
     "name": "stdout",
     "output_type": "stream",
     "text": [
      "PyAEDT WARNING: Property Command is read-only.\n"
     ]
    },
    {
     "name": "stdout",
     "output_type": "stream",
     "text": [
      "PyAEDT WARNING: Property Command is read-only.\n"
     ]
    },
    {
     "name": "stdout",
     "output_type": "stream",
     "text": [
      "PyAEDT WARNING: Property Command is read-only.\n"
     ]
    },
    {
     "name": "stdout",
     "output_type": "stream",
     "text": [
      "PyAEDT WARNING: Property Command is read-only.\n"
     ]
    },
    {
     "name": "stdout",
     "output_type": "stream",
     "text": [
      "PyAEDT WARNING: Argument `cs_plane` is deprecated for method `create_circle`; use `orientation` instead.\n"
     ]
    },
    {
     "name": "stdout",
     "output_type": "stream",
     "text": [
      "PyAEDT WARNING: Property Command is read-only.\n"
     ]
    },
    {
     "name": "stdout",
     "output_type": "stream",
     "text": [
      "PyAEDT INFO: Boundary Perfect E PerfE_61C7P5 has been created.\n"
     ]
    },
    {
     "name": "stdout",
     "output_type": "stream",
     "text": [
      "PyAEDT INFO: Boundary Perfect E PerfE_1LQRDN has been created.\n"
     ]
    },
    {
     "name": "stdout",
     "output_type": "stream",
     "text": [
      "PyAEDT INFO: Parsing design objects. This operation can take time\n"
     ]
    },
    {
     "name": "stdout",
     "output_type": "stream",
     "text": [
      "PyAEDT INFO: Refreshing bodies from Object Info\n"
     ]
    },
    {
     "name": "stdout",
     "output_type": "stream",
     "text": [
      "PyAEDT INFO: Bodies Info Refreshed Elapsed time: 0m 0sec\n"
     ]
    },
    {
     "name": "stdout",
     "output_type": "stream",
     "text": [
      "PyAEDT INFO: 3D Modeler objects parsed. Elapsed time: 0m 0sec\n"
     ]
    },
    {
     "name": "stdout",
     "output_type": "stream",
     "text": [
      "PyAEDT INFO: Boundary Perfect E PerfE_RX01ZV has been created.\n"
     ]
    },
    {
     "name": "stdout",
     "output_type": "stream",
     "text": [
      "PyAEDT INFO: Boundary AutoIdentify port_Patch_LCWM9C_1 has been created.\n"
     ]
    },
    {
     "name": "stdout",
     "output_type": "stream",
     "text": [
      "PyAEDT INFO: Parsing C:/Users/ansys/AppData/Local/Temp/tmp0tz1p5vm_ansys/pyaedt_prj_N21/antenna_toolkit.aedt.\n"
     ]
    },
    {
     "name": "stdout",
     "output_type": "stream",
     "text": [
      "PyAEDT INFO: File C:/Users/ansys/AppData/Local/Temp/tmp0tz1p5vm_ansys/pyaedt_prj_N21/antenna_toolkit.aedt correctly loaded. Elapsed time: 0m 0sec\n"
     ]
    },
    {
     "name": "stdout",
     "output_type": "stream",
     "text": [
      "PyAEDT INFO: aedt file load time 0.01561284065246582\n"
     ]
    },
    {
     "name": "stdout",
     "output_type": "stream",
     "text": [
      "PyAEDT INFO: Project antenna_toolkit Saved correctly\n"
     ]
    },
    {
     "name": "stdout",
     "output_type": "stream",
     "text": [
      "PyAEDT INFO: Desktop has been released.\n"
     ]
    },
    {
     "name": "stderr",
     "output_type": "stream",
     "text": [
      "INFO - AEDT is released.\n"
     ]
    }
   ],
   "source": [
    "antenna_parameter = toolkit_api.get_antenna(\"RectangularPatchProbe\")"
   ]
  },
  {
   "cell_type": "markdown",
   "id": "9cd437e4",
   "metadata": {},
   "source": [
    "## Try. to create antenna\n",
    "\n",
    "The AEDT Antenna Toolkit API does not allow the creation of more than one antenna. However, you can use the antenna\n",
    "model's API to create more than one antenna."
   ]
  },
  {
   "cell_type": "code",
   "execution_count": 25,
   "id": "3d5cc7a1",
   "metadata": {
    "execution": {
     "iopub.execute_input": "2025-02-23T12:43:25.031766Z",
     "iopub.status.busy": "2025-02-23T12:43:25.031766Z",
     "iopub.status.idle": "2025-02-23T12:43:25.047390Z",
     "shell.execute_reply": "2025-02-23T12:43:25.047390Z"
    }
   },
   "outputs": [
    {
     "name": "stderr",
     "output_type": "stream",
     "text": [
      "DEBUG - Antenna is already created.\n"
     ]
    }
   ],
   "source": [
    "new_antenna = toolkit_api.get_antenna(\"BowTie\")"
   ]
  },
  {
   "cell_type": "code",
   "execution_count": 26,
   "id": "4d012436",
   "metadata": {
    "execution": {
     "iopub.execute_input": "2025-02-23T12:43:25.047390Z",
     "iopub.status.busy": "2025-02-23T12:43:25.047390Z",
     "iopub.status.idle": "2025-02-23T12:43:25.063016Z",
     "shell.execute_reply": "2025-02-23T12:43:25.063016Z"
    }
   },
   "outputs": [
    {
     "name": "stdout",
     "output_type": "stream",
     "text": [
      "False\n"
     ]
    }
   ],
   "source": [
    "print(new_antenna)"
   ]
  },
  {
   "cell_type": "markdown",
   "id": "5f133d57",
   "metadata": {},
   "source": [
    "## Set properties\n",
    "\n",
    "Move antenna X position"
   ]
  },
  {
   "cell_type": "code",
   "execution_count": 27,
   "id": "cbe59fa6",
   "metadata": {
    "execution": {
     "iopub.execute_input": "2025-02-23T12:43:25.063016Z",
     "iopub.status.busy": "2025-02-23T12:43:25.063016Z",
     "iopub.status.idle": "2025-02-23T12:43:25.807318Z",
     "shell.execute_reply": "2025-02-23T12:43:25.807318Z"
    }
   },
   "outputs": [
    {
     "name": "stderr",
     "output_type": "stream",
     "text": [
      "DEBUG - Toolkit is not connected to AEDT.\n"
     ]
    },
    {
     "name": "stderr",
     "output_type": "stream",
     "text": [
      "DEBUG - Connecting AEDT.\n"
     ]
    },
    {
     "name": "stdout",
     "output_type": "stream",
     "text": [
      "PyAEDT INFO: Python version 3.10.11 (tags/v3.10.11:7d4cc5a, Apr  5 2023, 00:38:17) [MSC v.1929 64 bit (AMD64)].\n"
     ]
    },
    {
     "name": "stdout",
     "output_type": "stream",
     "text": [
      "PyAEDT INFO: PyAEDT version 0.14.1.\n"
     ]
    },
    {
     "name": "stdout",
     "output_type": "stream",
     "text": [
      "PyAEDT INFO: Initializing new Desktop session.\n"
     ]
    },
    {
     "name": "stdout",
     "output_type": "stream",
     "text": [
      "PyAEDT WARNING: Argument `specified_version` is deprecated for method `__init__`; use `version` instead.\n"
     ]
    },
    {
     "name": "stdout",
     "output_type": "stream",
     "text": [
      "PyAEDT WARNING: Argument `new_desktop_session` is deprecated for method `__init__`; use `new_desktop` instead.\n"
     ]
    },
    {
     "name": "stdout",
     "output_type": "stream",
     "text": [
      "PyAEDT INFO: Log on console is enabled.\n"
     ]
    },
    {
     "name": "stdout",
     "output_type": "stream",
     "text": [
      "PyAEDT INFO: Log on file C:\\Users\\ansys\\AppData\\Local\\Temp\\pyaedt_ansys_c0306ed8-17dc-4f02-9eaf-d45c6e9d9f9e.log is enabled.\n"
     ]
    },
    {
     "name": "stdout",
     "output_type": "stream",
     "text": [
      "PyAEDT INFO: Log on AEDT is disabled.\n"
     ]
    },
    {
     "name": "stdout",
     "output_type": "stream",
     "text": [
      "PyAEDT INFO: Debug logger is disabled. PyAEDT methods will not be logged.\n"
     ]
    },
    {
     "name": "stdout",
     "output_type": "stream",
     "text": [
      "PyAEDT INFO: Launching PyAEDT with gRPC plugin.\n"
     ]
    },
    {
     "name": "stdout",
     "output_type": "stream",
     "text": [
      "PyAEDT INFO: Connecting to AEDT session on gRPC port 49639.\n"
     ]
    },
    {
     "name": "stdout",
     "output_type": "stream",
     "text": [
      "PyAEDT INFO: AEDT installation Path C:\\Program Files\\AnsysEM\\v242\\Win64\n"
     ]
    },
    {
     "name": "stderr",
     "output_type": "stream",
     "text": [
      "DEBUG - Toolkit is connected to AEDT.\n"
     ]
    },
    {
     "name": "stdout",
     "output_type": "stream",
     "text": [
      "PyAEDT INFO: Python version 3.10.11 (tags/v3.10.11:7d4cc5a, Apr  5 2023, 00:38:17) [MSC v.1929 64 bit (AMD64)].\n"
     ]
    },
    {
     "name": "stdout",
     "output_type": "stream",
     "text": [
      "PyAEDT INFO: PyAEDT version 0.14.1.\n"
     ]
    },
    {
     "name": "stdout",
     "output_type": "stream",
     "text": [
      "PyAEDT INFO: Returning found Desktop session with PID 1920!\n"
     ]
    },
    {
     "name": "stdout",
     "output_type": "stream",
     "text": [
      "PyAEDT INFO: Project antenna_toolkit set to active.\n"
     ]
    },
    {
     "name": "stdout",
     "output_type": "stream",
     "text": [
      "PyAEDT INFO: Active Design set to HFSS_BXU8KQ\n"
     ]
    },
    {
     "name": "stdout",
     "output_type": "stream",
     "text": [
      "PyAEDT INFO: Aedt Objects correctly read\n"
     ]
    },
    {
     "name": "stderr",
     "output_type": "stream",
     "text": [
      "INFO - Toolkit is connected to AEDT design.\n"
     ]
    },
    {
     "name": "stdout",
     "output_type": "stream",
     "text": [
      "PyAEDT INFO: Desktop has been released.\n"
     ]
    },
    {
     "name": "stderr",
     "output_type": "stream",
     "text": [
      "INFO - AEDT is released.\n"
     ]
    },
    {
     "data": {
      "text/plain": [
       "True"
      ]
     },
     "execution_count": 27,
     "metadata": {},
     "output_type": "execute_result"
    }
   ],
   "source": [
    "toolkit_api.update_hfss_parameters(\"pos_x\", \"20\")"
   ]
  },
  {
   "cell_type": "markdown",
   "id": "f28bfab9",
   "metadata": {},
   "source": [
    "## Fit all"
   ]
  },
  {
   "cell_type": "code",
   "execution_count": 28,
   "id": "05b6b107",
   "metadata": {
    "execution": {
     "iopub.execute_input": "2025-02-23T12:43:25.807318Z",
     "iopub.status.busy": "2025-02-23T12:43:25.807318Z",
     "iopub.status.idle": "2025-02-23T12:43:26.090958Z",
     "shell.execute_reply": "2025-02-23T12:43:26.090958Z"
    }
   },
   "outputs": [
    {
     "name": "stderr",
     "output_type": "stream",
     "text": [
      "DEBUG - Toolkit is not connected to AEDT.\n"
     ]
    },
    {
     "name": "stderr",
     "output_type": "stream",
     "text": [
      "DEBUG - Connecting AEDT.\n"
     ]
    },
    {
     "name": "stdout",
     "output_type": "stream",
     "text": [
      "PyAEDT INFO: Python version 3.10.11 (tags/v3.10.11:7d4cc5a, Apr  5 2023, 00:38:17) [MSC v.1929 64 bit (AMD64)].\n"
     ]
    },
    {
     "name": "stdout",
     "output_type": "stream",
     "text": [
      "PyAEDT INFO: PyAEDT version 0.14.1.\n"
     ]
    },
    {
     "name": "stdout",
     "output_type": "stream",
     "text": [
      "PyAEDT INFO: Initializing new Desktop session.\n"
     ]
    },
    {
     "name": "stdout",
     "output_type": "stream",
     "text": [
      "PyAEDT WARNING: Argument `specified_version` is deprecated for method `__init__`; use `version` instead.\n"
     ]
    },
    {
     "name": "stdout",
     "output_type": "stream",
     "text": [
      "PyAEDT WARNING: Argument `new_desktop_session` is deprecated for method `__init__`; use `new_desktop` instead.\n"
     ]
    },
    {
     "name": "stdout",
     "output_type": "stream",
     "text": [
      "PyAEDT INFO: Log on console is enabled.\n"
     ]
    },
    {
     "name": "stdout",
     "output_type": "stream",
     "text": [
      "PyAEDT INFO: Log on file C:\\Users\\ansys\\AppData\\Local\\Temp\\pyaedt_ansys_c0306ed8-17dc-4f02-9eaf-d45c6e9d9f9e.log is enabled.\n"
     ]
    },
    {
     "name": "stdout",
     "output_type": "stream",
     "text": [
      "PyAEDT INFO: Log on AEDT is disabled.\n"
     ]
    },
    {
     "name": "stdout",
     "output_type": "stream",
     "text": [
      "PyAEDT INFO: Debug logger is disabled. PyAEDT methods will not be logged.\n"
     ]
    },
    {
     "name": "stdout",
     "output_type": "stream",
     "text": [
      "PyAEDT INFO: Launching PyAEDT with gRPC plugin.\n"
     ]
    },
    {
     "name": "stdout",
     "output_type": "stream",
     "text": [
      "PyAEDT INFO: Connecting to AEDT session on gRPC port 49639.\n"
     ]
    },
    {
     "name": "stdout",
     "output_type": "stream",
     "text": [
      "PyAEDT INFO: AEDT installation Path C:\\Program Files\\AnsysEM\\v242\\Win64\n"
     ]
    },
    {
     "name": "stderr",
     "output_type": "stream",
     "text": [
      "DEBUG - Toolkit is connected to AEDT.\n"
     ]
    },
    {
     "name": "stdout",
     "output_type": "stream",
     "text": [
      "PyAEDT INFO: Python version 3.10.11 (tags/v3.10.11:7d4cc5a, Apr  5 2023, 00:38:17) [MSC v.1929 64 bit (AMD64)].\n"
     ]
    },
    {
     "name": "stdout",
     "output_type": "stream",
     "text": [
      "PyAEDT INFO: PyAEDT version 0.14.1.\n"
     ]
    },
    {
     "name": "stdout",
     "output_type": "stream",
     "text": [
      "PyAEDT INFO: Returning found Desktop session with PID 1920!\n"
     ]
    },
    {
     "name": "stdout",
     "output_type": "stream",
     "text": [
      "PyAEDT INFO: Project antenna_toolkit set to active.\n"
     ]
    },
    {
     "name": "stdout",
     "output_type": "stream",
     "text": [
      "PyAEDT INFO: Active Design set to HFSS_BXU8KQ\n"
     ]
    },
    {
     "name": "stdout",
     "output_type": "stream",
     "text": [
      "PyAEDT INFO: Aedt Objects correctly read\n"
     ]
    },
    {
     "name": "stderr",
     "output_type": "stream",
     "text": [
      "INFO - Toolkit is connected to AEDT design.\n"
     ]
    },
    {
     "data": {
      "text/plain": [
       "True"
      ]
     },
     "execution_count": 28,
     "metadata": {},
     "output_type": "execute_result"
    }
   ],
   "source": [
    "toolkit_api.connect_design()"
   ]
  },
  {
   "cell_type": "code",
   "execution_count": 29,
   "id": "796e6335",
   "metadata": {
    "execution": {
     "iopub.execute_input": "2025-02-23T12:43:26.090958Z",
     "iopub.status.busy": "2025-02-23T12:43:26.090958Z",
     "iopub.status.idle": "2025-02-23T12:43:26.123355Z",
     "shell.execute_reply": "2025-02-23T12:43:26.123355Z"
    }
   },
   "outputs": [
    {
     "name": "stdout",
     "output_type": "stream",
     "text": [
      "PyAEDT INFO: Modeler class has been initialized! Elapsed time: 0m 0sec\n"
     ]
    }
   ],
   "source": [
    "toolkit_api.aedtapp.modeler.fit_all()"
   ]
  },
  {
   "cell_type": "code",
   "execution_count": 30,
   "id": "c3b7921e",
   "metadata": {
    "execution": {
     "iopub.execute_input": "2025-02-23T12:43:26.123355Z",
     "iopub.status.busy": "2025-02-23T12:43:26.123355Z",
     "iopub.status.idle": "2025-02-23T12:43:26.502018Z",
     "shell.execute_reply": "2025-02-23T12:43:26.502018Z"
    }
   },
   "outputs": [
    {
     "name": "stdout",
     "output_type": "stream",
     "text": [
      "PyAEDT INFO: Desktop has been released.\n"
     ]
    },
    {
     "name": "stderr",
     "output_type": "stream",
     "text": [
      "INFO - AEDT is released.\n"
     ]
    },
    {
     "data": {
      "text/plain": [
       "True"
      ]
     },
     "execution_count": 30,
     "metadata": {},
     "output_type": "execute_result"
    }
   ],
   "source": [
    "toolkit_api.release_aedt(False, False)"
   ]
  },
  {
   "cell_type": "markdown",
   "id": "b4f77f50",
   "metadata": {},
   "source": [
    "## Set properties\n",
    "\n",
    "Move antenna X position to origin"
   ]
  },
  {
   "cell_type": "code",
   "execution_count": 31,
   "id": "12075cc9",
   "metadata": {
    "execution": {
     "iopub.execute_input": "2025-02-23T12:43:26.502018Z",
     "iopub.status.busy": "2025-02-23T12:43:26.502018Z",
     "iopub.status.idle": "2025-02-23T12:43:27.261246Z",
     "shell.execute_reply": "2025-02-23T12:43:27.261246Z"
    }
   },
   "outputs": [
    {
     "name": "stderr",
     "output_type": "stream",
     "text": [
      "DEBUG - Toolkit is not connected to AEDT.\n"
     ]
    },
    {
     "name": "stderr",
     "output_type": "stream",
     "text": [
      "DEBUG - Connecting AEDT.\n"
     ]
    },
    {
     "name": "stdout",
     "output_type": "stream",
     "text": [
      "PyAEDT INFO: Python version 3.10.11 (tags/v3.10.11:7d4cc5a, Apr  5 2023, 00:38:17) [MSC v.1929 64 bit (AMD64)].\n"
     ]
    },
    {
     "name": "stdout",
     "output_type": "stream",
     "text": [
      "PyAEDT INFO: PyAEDT version 0.14.1.\n"
     ]
    },
    {
     "name": "stdout",
     "output_type": "stream",
     "text": [
      "PyAEDT INFO: Initializing new Desktop session.\n"
     ]
    },
    {
     "name": "stdout",
     "output_type": "stream",
     "text": [
      "PyAEDT WARNING: Argument `specified_version` is deprecated for method `__init__`; use `version` instead.\n"
     ]
    },
    {
     "name": "stdout",
     "output_type": "stream",
     "text": [
      "PyAEDT WARNING: Argument `new_desktop_session` is deprecated for method `__init__`; use `new_desktop` instead.\n"
     ]
    },
    {
     "name": "stdout",
     "output_type": "stream",
     "text": [
      "PyAEDT INFO: Log on console is enabled.\n"
     ]
    },
    {
     "name": "stdout",
     "output_type": "stream",
     "text": [
      "PyAEDT INFO: Log on file C:\\Users\\ansys\\AppData\\Local\\Temp\\pyaedt_ansys_c0306ed8-17dc-4f02-9eaf-d45c6e9d9f9e.log is enabled.\n"
     ]
    },
    {
     "name": "stdout",
     "output_type": "stream",
     "text": [
      "PyAEDT INFO: Log on AEDT is disabled.\n"
     ]
    },
    {
     "name": "stdout",
     "output_type": "stream",
     "text": [
      "PyAEDT INFO: Debug logger is disabled. PyAEDT methods will not be logged.\n"
     ]
    },
    {
     "name": "stdout",
     "output_type": "stream",
     "text": [
      "PyAEDT INFO: Launching PyAEDT with gRPC plugin.\n"
     ]
    },
    {
     "name": "stdout",
     "output_type": "stream",
     "text": [
      "PyAEDT INFO: Connecting to AEDT session on gRPC port 49639.\n"
     ]
    },
    {
     "name": "stdout",
     "output_type": "stream",
     "text": [
      "PyAEDT INFO: AEDT installation Path C:\\Program Files\\AnsysEM\\v242\\Win64\n"
     ]
    },
    {
     "name": "stderr",
     "output_type": "stream",
     "text": [
      "DEBUG - Toolkit is connected to AEDT.\n"
     ]
    },
    {
     "name": "stdout",
     "output_type": "stream",
     "text": [
      "PyAEDT INFO: Python version 3.10.11 (tags/v3.10.11:7d4cc5a, Apr  5 2023, 00:38:17) [MSC v.1929 64 bit (AMD64)].\n"
     ]
    },
    {
     "name": "stdout",
     "output_type": "stream",
     "text": [
      "PyAEDT INFO: PyAEDT version 0.14.1.\n"
     ]
    },
    {
     "name": "stdout",
     "output_type": "stream",
     "text": [
      "PyAEDT INFO: Returning found Desktop session with PID 1920!\n"
     ]
    },
    {
     "name": "stdout",
     "output_type": "stream",
     "text": [
      "PyAEDT INFO: Project antenna_toolkit set to active.\n"
     ]
    },
    {
     "name": "stdout",
     "output_type": "stream",
     "text": [
      "PyAEDT INFO: Active Design set to HFSS_BXU8KQ\n"
     ]
    },
    {
     "name": "stdout",
     "output_type": "stream",
     "text": [
      "PyAEDT INFO: Aedt Objects correctly read\n"
     ]
    },
    {
     "name": "stderr",
     "output_type": "stream",
     "text": [
      "INFO - Toolkit is connected to AEDT design.\n"
     ]
    },
    {
     "name": "stdout",
     "output_type": "stream",
     "text": [
      "PyAEDT INFO: Desktop has been released.\n"
     ]
    },
    {
     "name": "stderr",
     "output_type": "stream",
     "text": [
      "INFO - AEDT is released.\n"
     ]
    },
    {
     "data": {
      "text/plain": [
       "True"
      ]
     },
     "execution_count": 31,
     "metadata": {},
     "output_type": "execute_result"
    }
   ],
   "source": [
    "toolkit_api.update_hfss_parameters(\"pos_x\", \"0\")"
   ]
  },
  {
   "cell_type": "markdown",
   "id": "c5d16e49",
   "metadata": {},
   "source": [
    "## Analyze design in batch mode"
   ]
  },
  {
   "cell_type": "code",
   "execution_count": 32,
   "id": "e9d92c1d",
   "metadata": {
    "execution": {
     "iopub.execute_input": "2025-02-23T12:43:27.261246Z",
     "iopub.status.busy": "2025-02-23T12:43:27.261246Z",
     "iopub.status.idle": "2025-02-23T12:44:38.565556Z",
     "shell.execute_reply": "2025-02-23T12:44:38.565556Z"
    }
   },
   "outputs": [
    {
     "name": "stderr",
     "output_type": "stream",
     "text": [
      "DEBUG - Toolkit is not connected to AEDT.\n"
     ]
    },
    {
     "name": "stderr",
     "output_type": "stream",
     "text": [
      "DEBUG - Connecting AEDT.\n"
     ]
    },
    {
     "name": "stdout",
     "output_type": "stream",
     "text": [
      "PyAEDT INFO: Python version 3.10.11 (tags/v3.10.11:7d4cc5a, Apr  5 2023, 00:38:17) [MSC v.1929 64 bit (AMD64)].\n"
     ]
    },
    {
     "name": "stdout",
     "output_type": "stream",
     "text": [
      "PyAEDT INFO: PyAEDT version 0.14.1.\n"
     ]
    },
    {
     "name": "stdout",
     "output_type": "stream",
     "text": [
      "PyAEDT INFO: Initializing new Desktop session.\n"
     ]
    },
    {
     "name": "stdout",
     "output_type": "stream",
     "text": [
      "PyAEDT WARNING: Argument `specified_version` is deprecated for method `__init__`; use `version` instead.\n"
     ]
    },
    {
     "name": "stdout",
     "output_type": "stream",
     "text": [
      "PyAEDT WARNING: Argument `new_desktop_session` is deprecated for method `__init__`; use `new_desktop` instead.\n"
     ]
    },
    {
     "name": "stdout",
     "output_type": "stream",
     "text": [
      "PyAEDT INFO: Log on console is enabled.\n"
     ]
    },
    {
     "name": "stdout",
     "output_type": "stream",
     "text": [
      "PyAEDT INFO: Log on file C:\\Users\\ansys\\AppData\\Local\\Temp\\pyaedt_ansys_c0306ed8-17dc-4f02-9eaf-d45c6e9d9f9e.log is enabled.\n"
     ]
    },
    {
     "name": "stdout",
     "output_type": "stream",
     "text": [
      "PyAEDT INFO: Log on AEDT is disabled.\n"
     ]
    },
    {
     "name": "stdout",
     "output_type": "stream",
     "text": [
      "PyAEDT INFO: Debug logger is disabled. PyAEDT methods will not be logged.\n"
     ]
    },
    {
     "name": "stdout",
     "output_type": "stream",
     "text": [
      "PyAEDT INFO: Launching PyAEDT with gRPC plugin.\n"
     ]
    },
    {
     "name": "stdout",
     "output_type": "stream",
     "text": [
      "PyAEDT INFO: Connecting to AEDT session on gRPC port 49639.\n"
     ]
    },
    {
     "name": "stdout",
     "output_type": "stream",
     "text": [
      "PyAEDT INFO: AEDT installation Path C:\\Program Files\\AnsysEM\\v242\\Win64\n"
     ]
    },
    {
     "name": "stderr",
     "output_type": "stream",
     "text": [
      "DEBUG - Toolkit is connected to AEDT.\n"
     ]
    },
    {
     "name": "stdout",
     "output_type": "stream",
     "text": [
      "PyAEDT INFO: Python version 3.10.11 (tags/v3.10.11:7d4cc5a, Apr  5 2023, 00:38:17) [MSC v.1929 64 bit (AMD64)].\n"
     ]
    },
    {
     "name": "stdout",
     "output_type": "stream",
     "text": [
      "PyAEDT INFO: PyAEDT version 0.14.1.\n"
     ]
    },
    {
     "name": "stdout",
     "output_type": "stream",
     "text": [
      "PyAEDT INFO: Returning found Desktop session with PID 1920!\n"
     ]
    },
    {
     "name": "stdout",
     "output_type": "stream",
     "text": [
      "PyAEDT INFO: Project antenna_toolkit set to active.\n"
     ]
    },
    {
     "name": "stdout",
     "output_type": "stream",
     "text": [
      "PyAEDT INFO: Active Design set to HFSS_BXU8KQ\n"
     ]
    },
    {
     "name": "stdout",
     "output_type": "stream",
     "text": [
      "PyAEDT INFO: Aedt Objects correctly read\n"
     ]
    },
    {
     "name": "stderr",
     "output_type": "stream",
     "text": [
      "INFO - Toolkit is connected to AEDT design.\n"
     ]
    },
    {
     "name": "stdout",
     "output_type": "stream",
     "text": [
      "PyAEDT INFO: Project antenna_toolkit Saved correctly\n"
     ]
    },
    {
     "name": "stdout",
     "output_type": "stream",
     "text": [
      "PyAEDT WARNING: Argument `num_cores` is deprecated for method `analyze`; use `cores` instead.\n"
     ]
    },
    {
     "name": "stdout",
     "output_type": "stream",
     "text": [
      "PyAEDT INFO: Key Desktop/ActiveDSOConfigurations/HFSS correctly changed.\n"
     ]
    },
    {
     "name": "stdout",
     "output_type": "stream",
     "text": [
      "PyAEDT INFO: Solving all design setups.\n"
     ]
    },
    {
     "name": "stdout",
     "output_type": "stream",
     "text": [
      "PyAEDT INFO: Key Desktop/ActiveDSOConfigurations/HFSS correctly changed.\n"
     ]
    },
    {
     "name": "stdout",
     "output_type": "stream",
     "text": [
      "PyAEDT INFO: Design setup None solved correctly in 0.0h 1.0m 10.0s\n"
     ]
    },
    {
     "name": "stdout",
     "output_type": "stream",
     "text": [
      "PyAEDT INFO: Desktop has been released.\n"
     ]
    },
    {
     "name": "stderr",
     "output_type": "stream",
     "text": [
      "INFO - AEDT is released.\n"
     ]
    },
    {
     "data": {
      "text/plain": [
       "True"
      ]
     },
     "execution_count": 32,
     "metadata": {},
     "output_type": "execute_result"
    }
   ],
   "source": [
    "toolkit_api.analyze()"
   ]
  },
  {
   "cell_type": "markdown",
   "id": "48e8ff9e",
   "metadata": {},
   "source": [
    "## Get scattering results"
   ]
  },
  {
   "cell_type": "code",
   "execution_count": 33,
   "id": "dcca6698",
   "metadata": {
    "execution": {
     "iopub.execute_input": "2025-02-23T12:44:38.565556Z",
     "iopub.status.busy": "2025-02-23T12:44:38.565556Z",
     "iopub.status.idle": "2025-02-23T12:44:39.658596Z",
     "shell.execute_reply": "2025-02-23T12:44:39.658596Z"
    }
   },
   "outputs": [
    {
     "name": "stderr",
     "output_type": "stream",
     "text": [
      "DEBUG - Toolkit is not connected to AEDT.\n"
     ]
    },
    {
     "name": "stderr",
     "output_type": "stream",
     "text": [
      "DEBUG - Connecting AEDT.\n"
     ]
    },
    {
     "name": "stdout",
     "output_type": "stream",
     "text": [
      "PyAEDT INFO: Python version 3.10.11 (tags/v3.10.11:7d4cc5a, Apr  5 2023, 00:38:17) [MSC v.1929 64 bit (AMD64)].\n"
     ]
    },
    {
     "name": "stdout",
     "output_type": "stream",
     "text": [
      "PyAEDT INFO: PyAEDT version 0.14.1.\n"
     ]
    },
    {
     "name": "stdout",
     "output_type": "stream",
     "text": [
      "PyAEDT INFO: Initializing new Desktop session.\n"
     ]
    },
    {
     "name": "stdout",
     "output_type": "stream",
     "text": [
      "PyAEDT WARNING: Argument `specified_version` is deprecated for method `__init__`; use `version` instead.\n"
     ]
    },
    {
     "name": "stdout",
     "output_type": "stream",
     "text": [
      "PyAEDT WARNING: Argument `new_desktop_session` is deprecated for method `__init__`; use `new_desktop` instead.\n"
     ]
    },
    {
     "name": "stdout",
     "output_type": "stream",
     "text": [
      "PyAEDT INFO: Log on console is enabled.\n"
     ]
    },
    {
     "name": "stdout",
     "output_type": "stream",
     "text": [
      "PyAEDT INFO: Log on file C:\\Users\\ansys\\AppData\\Local\\Temp\\pyaedt_ansys_c0306ed8-17dc-4f02-9eaf-d45c6e9d9f9e.log is enabled.\n"
     ]
    },
    {
     "name": "stdout",
     "output_type": "stream",
     "text": [
      "PyAEDT INFO: Log on AEDT is disabled.\n"
     ]
    },
    {
     "name": "stdout",
     "output_type": "stream",
     "text": [
      "PyAEDT INFO: Debug logger is disabled. PyAEDT methods will not be logged.\n"
     ]
    },
    {
     "name": "stdout",
     "output_type": "stream",
     "text": [
      "PyAEDT INFO: Launching PyAEDT with gRPC plugin.\n"
     ]
    },
    {
     "name": "stdout",
     "output_type": "stream",
     "text": [
      "PyAEDT INFO: Connecting to AEDT session on gRPC port 49639.\n"
     ]
    },
    {
     "name": "stdout",
     "output_type": "stream",
     "text": [
      "PyAEDT INFO: AEDT installation Path C:\\Program Files\\AnsysEM\\v242\\Win64\n"
     ]
    },
    {
     "name": "stderr",
     "output_type": "stream",
     "text": [
      "DEBUG - Toolkit is connected to AEDT.\n"
     ]
    },
    {
     "name": "stdout",
     "output_type": "stream",
     "text": [
      "PyAEDT INFO: Python version 3.10.11 (tags/v3.10.11:7d4cc5a, Apr  5 2023, 00:38:17) [MSC v.1929 64 bit (AMD64)].\n"
     ]
    },
    {
     "name": "stdout",
     "output_type": "stream",
     "text": [
      "PyAEDT INFO: PyAEDT version 0.14.1.\n"
     ]
    },
    {
     "name": "stdout",
     "output_type": "stream",
     "text": [
      "PyAEDT INFO: Returning found Desktop session with PID 1920!\n"
     ]
    },
    {
     "name": "stdout",
     "output_type": "stream",
     "text": [
      "PyAEDT INFO: Project antenna_toolkit set to active.\n"
     ]
    },
    {
     "name": "stdout",
     "output_type": "stream",
     "text": [
      "PyAEDT INFO: Active Design set to HFSS_BXU8KQ\n"
     ]
    },
    {
     "name": "stdout",
     "output_type": "stream",
     "text": [
      "PyAEDT INFO: Aedt Objects correctly read\n"
     ]
    },
    {
     "name": "stderr",
     "output_type": "stream",
     "text": [
      "INFO - Toolkit is connected to AEDT design.\n"
     ]
    },
    {
     "name": "stdout",
     "output_type": "stream",
     "text": [
      "PyAEDT INFO: Parsing C:/Users/ansys/AppData/Local/Temp/tmp0tz1p5vm_ansys/pyaedt_prj_N21/antenna_toolkit.aedt.\n"
     ]
    },
    {
     "name": "stdout",
     "output_type": "stream",
     "text": [
      "PyAEDT INFO: File C:/Users/ansys/AppData/Local/Temp/tmp0tz1p5vm_ansys/pyaedt_prj_N21/antenna_toolkit.aedt correctly loaded. Elapsed time: 0m 0sec\n"
     ]
    },
    {
     "name": "stdout",
     "output_type": "stream",
     "text": [
      "PyAEDT INFO: aedt file load time 0.04688525199890137\n"
     ]
    },
    {
     "name": "stdout",
     "output_type": "stream",
     "text": [
      "PyAEDT INFO: PostProcessor class has been initialized! Elapsed time: 0m 0sec\n"
     ]
    },
    {
     "name": "stdout",
     "output_type": "stream",
     "text": [
      "PyAEDT INFO: Post class has been initialized! Elapsed time: 0m 0sec\n"
     ]
    },
    {
     "name": "stdout",
     "output_type": "stream",
     "text": [
      "PyAEDT INFO: Solution Data Correctly Loaded.\n"
     ]
    },
    {
     "name": "stdout",
     "output_type": "stream",
     "text": [
      "PyAEDT INFO: Desktop has been released.\n"
     ]
    },
    {
     "name": "stderr",
     "output_type": "stream",
     "text": [
      "INFO - AEDT is released.\n"
     ]
    }
   ],
   "source": [
    "scattering_data = toolkit_api.scattering_results()"
   ]
  },
  {
   "cell_type": "markdown",
   "id": "43d9852d",
   "metadata": {},
   "source": [
    "## Get farfield results"
   ]
  },
  {
   "cell_type": "code",
   "execution_count": 34,
   "id": "93fd3afd",
   "metadata": {
    "execution": {
     "iopub.execute_input": "2025-02-23T12:44:39.658596Z",
     "iopub.status.busy": "2025-02-23T12:44:39.658596Z",
     "iopub.status.idle": "2025-02-23T12:44:43.391679Z",
     "shell.execute_reply": "2025-02-23T12:44:43.390470Z"
    }
   },
   "outputs": [
    {
     "name": "stderr",
     "output_type": "stream",
     "text": [
      "DEBUG - Toolkit is not connected to AEDT.\n"
     ]
    },
    {
     "name": "stderr",
     "output_type": "stream",
     "text": [
      "DEBUG - Connecting AEDT.\n"
     ]
    },
    {
     "name": "stdout",
     "output_type": "stream",
     "text": [
      "PyAEDT INFO: Python version 3.10.11 (tags/v3.10.11:7d4cc5a, Apr  5 2023, 00:38:17) [MSC v.1929 64 bit (AMD64)].\n"
     ]
    },
    {
     "name": "stdout",
     "output_type": "stream",
     "text": [
      "PyAEDT INFO: PyAEDT version 0.14.1.\n"
     ]
    },
    {
     "name": "stdout",
     "output_type": "stream",
     "text": [
      "PyAEDT INFO: Initializing new Desktop session.\n"
     ]
    },
    {
     "name": "stdout",
     "output_type": "stream",
     "text": [
      "PyAEDT WARNING: Argument `specified_version` is deprecated for method `__init__`; use `version` instead.\n"
     ]
    },
    {
     "name": "stdout",
     "output_type": "stream",
     "text": [
      "PyAEDT WARNING: Argument `new_desktop_session` is deprecated for method `__init__`; use `new_desktop` instead.\n"
     ]
    },
    {
     "name": "stdout",
     "output_type": "stream",
     "text": [
      "PyAEDT INFO: Log on console is enabled.\n"
     ]
    },
    {
     "name": "stdout",
     "output_type": "stream",
     "text": [
      "PyAEDT INFO: Log on file C:\\Users\\ansys\\AppData\\Local\\Temp\\pyaedt_ansys_c0306ed8-17dc-4f02-9eaf-d45c6e9d9f9e.log is enabled.\n"
     ]
    },
    {
     "name": "stdout",
     "output_type": "stream",
     "text": [
      "PyAEDT INFO: Log on AEDT is disabled.\n"
     ]
    },
    {
     "name": "stdout",
     "output_type": "stream",
     "text": [
      "PyAEDT INFO: Debug logger is disabled. PyAEDT methods will not be logged.\n"
     ]
    },
    {
     "name": "stdout",
     "output_type": "stream",
     "text": [
      "PyAEDT INFO: Launching PyAEDT with gRPC plugin.\n"
     ]
    },
    {
     "name": "stdout",
     "output_type": "stream",
     "text": [
      "PyAEDT INFO: Connecting to AEDT session on gRPC port 49639.\n"
     ]
    },
    {
     "name": "stdout",
     "output_type": "stream",
     "text": [
      "PyAEDT INFO: AEDT installation Path C:\\Program Files\\AnsysEM\\v242\\Win64\n"
     ]
    },
    {
     "name": "stderr",
     "output_type": "stream",
     "text": [
      "DEBUG - Toolkit is connected to AEDT.\n"
     ]
    },
    {
     "name": "stdout",
     "output_type": "stream",
     "text": [
      "PyAEDT INFO: Python version 3.10.11 (tags/v3.10.11:7d4cc5a, Apr  5 2023, 00:38:17) [MSC v.1929 64 bit (AMD64)].\n"
     ]
    },
    {
     "name": "stdout",
     "output_type": "stream",
     "text": [
      "PyAEDT INFO: PyAEDT version 0.14.1.\n"
     ]
    },
    {
     "name": "stdout",
     "output_type": "stream",
     "text": [
      "PyAEDT INFO: Returning found Desktop session with PID 1920!\n"
     ]
    },
    {
     "name": "stdout",
     "output_type": "stream",
     "text": [
      "PyAEDT INFO: Project antenna_toolkit set to active.\n"
     ]
    },
    {
     "name": "stdout",
     "output_type": "stream",
     "text": [
      "PyAEDT INFO: Active Design set to HFSS_BXU8KQ\n"
     ]
    },
    {
     "name": "stdout",
     "output_type": "stream",
     "text": [
      "PyAEDT INFO: Aedt Objects correctly read\n"
     ]
    },
    {
     "name": "stderr",
     "output_type": "stream",
     "text": [
      "INFO - Toolkit is connected to AEDT design.\n"
     ]
    },
    {
     "name": "stdout",
     "output_type": "stream",
     "text": [
      "PyAEDT INFO: Project antenna_toolkit Saved correctly\n"
     ]
    },
    {
     "name": "stdout",
     "output_type": "stream",
     "text": [
      "PyAEDT INFO: Far field sphere 3D is assigned\n"
     ]
    },
    {
     "name": "stdout",
     "output_type": "stream",
     "text": [
      "PyAEDT INFO: Exporting antenna metadata...\n"
     ]
    },
    {
     "name": "stdout",
     "output_type": "stream",
     "text": [
      "PyAEDT INFO: Parsing C:/Users/ansys/AppData/Local/Temp/tmp0tz1p5vm_ansys/pyaedt_prj_N21/antenna_toolkit.aedt.\n"
     ]
    },
    {
     "name": "stdout",
     "output_type": "stream",
     "text": [
      "PyAEDT INFO: File C:/Users/ansys/AppData/Local/Temp/tmp0tz1p5vm_ansys/pyaedt_prj_N21/antenna_toolkit.aedt correctly loaded. Elapsed time: 0m 0sec\n"
     ]
    },
    {
     "name": "stdout",
     "output_type": "stream",
     "text": [
      "PyAEDT INFO: aedt file load time 0.0312497615814209\n"
     ]
    },
    {
     "name": "stdout",
     "output_type": "stream",
     "text": [
      "PyAEDT INFO: PostProcessor class has been initialized! Elapsed time: 0m 0sec\n"
     ]
    },
    {
     "name": "stdout",
     "output_type": "stream",
     "text": [
      "PyAEDT INFO: Post class has been initialized! Elapsed time: 0m 0sec\n"
     ]
    },
    {
     "name": "stdout",
     "output_type": "stream",
     "text": [
      "PyAEDT INFO: Antenna metadata exported.\n"
     ]
    },
    {
     "name": "stdout",
     "output_type": "stream",
     "text": [
      "PyAEDT INFO: Exporting geometry...\n"
     ]
    },
    {
     "name": "stdout",
     "output_type": "stream",
     "text": [
      "PyAEDT INFO: Modeler class has been initialized! Elapsed time: 0m 0sec\n"
     ]
    },
    {
     "name": "stdout",
     "output_type": "stream",
     "text": [
      "PyAEDT INFO: Exporting embedded element patterns.... Done: 2.327035903930664 seconds\n"
     ]
    },
    {
     "name": "stdout",
     "output_type": "stream",
     "text": [
      "PyAEDT INFO: Desktop has been released.\n"
     ]
    },
    {
     "name": "stderr",
     "output_type": "stream",
     "text": [
      "INFO - AEDT is released.\n"
     ]
    }
   ],
   "source": [
    "frequency_str = str(properties.antenna.synthesis.frequency) + properties.antenna.synthesis.frequency_unit\n",
    "farfield_metadata, farfield_frequency = toolkit_api.export_farfield(\n",
    "    frequencies=frequency_str, sphere=\"3D\", encode=False\n",
    ")"
   ]
  },
  {
   "cell_type": "markdown",
   "id": "463d1978",
   "metadata": {},
   "source": [
    "## Get antenna model"
   ]
  },
  {
   "cell_type": "code",
   "execution_count": 35,
   "id": "e69ad5ec",
   "metadata": {
    "execution": {
     "iopub.execute_input": "2025-02-23T12:44:43.391679Z",
     "iopub.status.busy": "2025-02-23T12:44:43.391679Z",
     "iopub.status.idle": "2025-02-23T12:44:44.529710Z",
     "shell.execute_reply": "2025-02-23T12:44:44.529710Z"
    }
   },
   "outputs": [
    {
     "name": "stderr",
     "output_type": "stream",
     "text": [
      "DEBUG - Toolkit is not connected to AEDT.\n"
     ]
    },
    {
     "name": "stderr",
     "output_type": "stream",
     "text": [
      "DEBUG - Connecting AEDT.\n"
     ]
    },
    {
     "name": "stdout",
     "output_type": "stream",
     "text": [
      "PyAEDT INFO: Python version 3.10.11 (tags/v3.10.11:7d4cc5a, Apr  5 2023, 00:38:17) [MSC v.1929 64 bit (AMD64)].\n"
     ]
    },
    {
     "name": "stdout",
     "output_type": "stream",
     "text": [
      "PyAEDT INFO: PyAEDT version 0.14.1.\n"
     ]
    },
    {
     "name": "stdout",
     "output_type": "stream",
     "text": [
      "PyAEDT INFO: Initializing new Desktop session.\n"
     ]
    },
    {
     "name": "stdout",
     "output_type": "stream",
     "text": [
      "PyAEDT WARNING: Argument `specified_version` is deprecated for method `__init__`; use `version` instead.\n"
     ]
    },
    {
     "name": "stdout",
     "output_type": "stream",
     "text": [
      "PyAEDT WARNING: Argument `new_desktop_session` is deprecated for method `__init__`; use `new_desktop` instead.\n"
     ]
    },
    {
     "name": "stdout",
     "output_type": "stream",
     "text": [
      "PyAEDT INFO: Log on console is enabled.\n"
     ]
    },
    {
     "name": "stdout",
     "output_type": "stream",
     "text": [
      "PyAEDT INFO: Log on file C:\\Users\\ansys\\AppData\\Local\\Temp\\pyaedt_ansys_c0306ed8-17dc-4f02-9eaf-d45c6e9d9f9e.log is enabled.\n"
     ]
    },
    {
     "name": "stdout",
     "output_type": "stream",
     "text": [
      "PyAEDT INFO: Log on AEDT is disabled.\n"
     ]
    },
    {
     "name": "stdout",
     "output_type": "stream",
     "text": [
      "PyAEDT INFO: Debug logger is disabled. PyAEDT methods will not be logged.\n"
     ]
    },
    {
     "name": "stdout",
     "output_type": "stream",
     "text": [
      "PyAEDT INFO: Launching PyAEDT with gRPC plugin.\n"
     ]
    },
    {
     "name": "stdout",
     "output_type": "stream",
     "text": [
      "PyAEDT INFO: Connecting to AEDT session on gRPC port 49639.\n"
     ]
    },
    {
     "name": "stdout",
     "output_type": "stream",
     "text": [
      "PyAEDT INFO: AEDT installation Path C:\\Program Files\\AnsysEM\\v242\\Win64\n"
     ]
    },
    {
     "name": "stderr",
     "output_type": "stream",
     "text": [
      "DEBUG - Toolkit is connected to AEDT.\n"
     ]
    },
    {
     "name": "stdout",
     "output_type": "stream",
     "text": [
      "PyAEDT INFO: Python version 3.10.11 (tags/v3.10.11:7d4cc5a, Apr  5 2023, 00:38:17) [MSC v.1929 64 bit (AMD64)].\n"
     ]
    },
    {
     "name": "stdout",
     "output_type": "stream",
     "text": [
      "PyAEDT INFO: PyAEDT version 0.14.1.\n"
     ]
    },
    {
     "name": "stdout",
     "output_type": "stream",
     "text": [
      "PyAEDT INFO: Returning found Desktop session with PID 1920!\n"
     ]
    },
    {
     "name": "stdout",
     "output_type": "stream",
     "text": [
      "PyAEDT INFO: Project antenna_toolkit set to active.\n"
     ]
    },
    {
     "name": "stdout",
     "output_type": "stream",
     "text": [
      "PyAEDT INFO: Active Design set to HFSS_BXU8KQ\n"
     ]
    },
    {
     "name": "stdout",
     "output_type": "stream",
     "text": [
      "PyAEDT INFO: Aedt Objects correctly read\n"
     ]
    },
    {
     "name": "stderr",
     "output_type": "stream",
     "text": [
      "INFO - Toolkit is connected to AEDT design.\n"
     ]
    },
    {
     "name": "stdout",
     "output_type": "stream",
     "text": [
      "PyAEDT INFO: Project antenna_toolkit Saved correctly\n"
     ]
    },
    {
     "name": "stdout",
     "output_type": "stream",
     "text": [
      "PyAEDT INFO: Parsing C:/Users/ansys/AppData/Local/Temp/tmp0tz1p5vm_ansys/pyaedt_prj_N21/antenna_toolkit.aedt.\n"
     ]
    },
    {
     "name": "stdout",
     "output_type": "stream",
     "text": [
      "PyAEDT INFO: File C:/Users/ansys/AppData/Local/Temp/tmp0tz1p5vm_ansys/pyaedt_prj_N21/antenna_toolkit.aedt correctly loaded. Elapsed time: 0m 0sec\n"
     ]
    },
    {
     "name": "stdout",
     "output_type": "stream",
     "text": [
      "PyAEDT INFO: aedt file load time 0.04794669151306152\n"
     ]
    },
    {
     "name": "stdout",
     "output_type": "stream",
     "text": [
      "PyAEDT INFO: PostProcessor class has been initialized! Elapsed time: 0m 0sec\n"
     ]
    },
    {
     "name": "stdout",
     "output_type": "stream",
     "text": [
      "PyAEDT INFO: Post class has been initialized! Elapsed time: 0m 0sec\n"
     ]
    },
    {
     "name": "stdout",
     "output_type": "stream",
     "text": [
      "PyAEDT WARNING: Argument `export_as_single_objects` is deprecated for method `export_model_obj`; use `export_as_multiple_objects` instead.\n"
     ]
    },
    {
     "name": "stdout",
     "output_type": "stream",
     "text": [
      "PyAEDT INFO: Modeler class has been initialized! Elapsed time: 0m 0sec\n"
     ]
    },
    {
     "name": "stdout",
     "output_type": "stream",
     "text": [
      "PyAEDT INFO: Desktop has been released.\n"
     ]
    },
    {
     "name": "stderr",
     "output_type": "stream",
     "text": [
      "INFO - AEDT is released.\n"
     ]
    }
   ],
   "source": [
    "files = toolkit_api.export_aedt_model(encode=False)"
   ]
  },
  {
   "cell_type": "markdown",
   "id": "71423c20",
   "metadata": {},
   "source": [
    "## Release AEDT\n",
    "\n",
    "Release AEDT."
   ]
  },
  {
   "cell_type": "code",
   "execution_count": 36,
   "id": "28f69ade",
   "metadata": {
    "execution": {
     "iopub.execute_input": "2025-02-23T12:44:44.529710Z",
     "iopub.status.busy": "2025-02-23T12:44:44.529710Z",
     "iopub.status.idle": "2025-02-23T12:44:55.561174Z",
     "shell.execute_reply": "2025-02-23T12:44:55.561174Z"
    }
   },
   "outputs": [
    {
     "name": "stderr",
     "output_type": "stream",
     "text": [
      "DEBUG - Toolkit is not connected to AEDT.\n"
     ]
    },
    {
     "name": "stderr",
     "output_type": "stream",
     "text": [
      "DEBUG - Connecting AEDT.\n"
     ]
    },
    {
     "name": "stdout",
     "output_type": "stream",
     "text": [
      "PyAEDT INFO: Python version 3.10.11 (tags/v3.10.11:7d4cc5a, Apr  5 2023, 00:38:17) [MSC v.1929 64 bit (AMD64)].\n"
     ]
    },
    {
     "name": "stdout",
     "output_type": "stream",
     "text": [
      "PyAEDT INFO: PyAEDT version 0.14.1.\n"
     ]
    },
    {
     "name": "stdout",
     "output_type": "stream",
     "text": [
      "PyAEDT INFO: Initializing new Desktop session.\n"
     ]
    },
    {
     "name": "stdout",
     "output_type": "stream",
     "text": [
      "PyAEDT WARNING: Argument `specified_version` is deprecated for method `__init__`; use `version` instead.\n"
     ]
    },
    {
     "name": "stdout",
     "output_type": "stream",
     "text": [
      "PyAEDT WARNING: Argument `new_desktop_session` is deprecated for method `__init__`; use `new_desktop` instead.\n"
     ]
    },
    {
     "name": "stdout",
     "output_type": "stream",
     "text": [
      "PyAEDT INFO: Log on console is enabled.\n"
     ]
    },
    {
     "name": "stdout",
     "output_type": "stream",
     "text": [
      "PyAEDT INFO: Log on file C:\\Users\\ansys\\AppData\\Local\\Temp\\pyaedt_ansys_c0306ed8-17dc-4f02-9eaf-d45c6e9d9f9e.log is enabled.\n"
     ]
    },
    {
     "name": "stdout",
     "output_type": "stream",
     "text": [
      "PyAEDT INFO: Log on AEDT is disabled.\n"
     ]
    },
    {
     "name": "stdout",
     "output_type": "stream",
     "text": [
      "PyAEDT INFO: Debug logger is disabled. PyAEDT methods will not be logged.\n"
     ]
    },
    {
     "name": "stdout",
     "output_type": "stream",
     "text": [
      "PyAEDT INFO: Launching PyAEDT with gRPC plugin.\n"
     ]
    },
    {
     "name": "stdout",
     "output_type": "stream",
     "text": [
      "PyAEDT INFO: Connecting to AEDT session on gRPC port 49639.\n"
     ]
    },
    {
     "name": "stdout",
     "output_type": "stream",
     "text": [
      "PyAEDT INFO: AEDT installation Path C:\\Program Files\\AnsysEM\\v242\\Win64\n"
     ]
    },
    {
     "name": "stderr",
     "output_type": "stream",
     "text": [
      "DEBUG - Toolkit is connected to AEDT.\n"
     ]
    },
    {
     "name": "stdout",
     "output_type": "stream",
     "text": [
      "PyAEDT INFO: Desktop has been released and closed.\n"
     ]
    },
    {
     "name": "stderr",
     "output_type": "stream",
     "text": [
      "INFO - AEDT is released.\n"
     ]
    },
    {
     "data": {
      "text/plain": [
       "True"
      ]
     },
     "execution_count": 36,
     "metadata": {},
     "output_type": "execute_result"
    }
   ],
   "source": [
    "toolkit_api.release_aedt(True, True)"
   ]
  },
  {
   "cell_type": "markdown",
   "id": "52509425",
   "metadata": {},
   "source": [
    "## Plot results"
   ]
  },
  {
   "cell_type": "markdown",
   "id": "a5a46405",
   "metadata": {},
   "source": [
    "Plot exported files"
   ]
  },
  {
   "cell_type": "code",
   "execution_count": 37,
   "id": "25dae5f1",
   "metadata": {
    "execution": {
     "iopub.execute_input": "2025-02-23T12:44:55.561174Z",
     "iopub.status.busy": "2025-02-23T12:44:55.561174Z",
     "iopub.status.idle": "2025-02-23T12:44:55.576801Z",
     "shell.execute_reply": "2025-02-23T12:44:55.576801Z"
    }
   },
   "outputs": [],
   "source": [
    "from ansys.aedt.core.visualization.plot.pyvista import ModelPlotter"
   ]
  },
  {
   "cell_type": "code",
   "execution_count": 38,
   "id": "c2a4a966",
   "metadata": {
    "execution": {
     "iopub.execute_input": "2025-02-23T12:44:55.576801Z",
     "iopub.status.busy": "2025-02-23T12:44:55.576801Z",
     "iopub.status.idle": "2025-02-23T12:44:55.592437Z",
     "shell.execute_reply": "2025-02-23T12:44:55.592437Z"
    }
   },
   "outputs": [],
   "source": [
    "model = ModelPlotter()\n",
    "for file in files:\n",
    "    model.add_object(file[0], file[1], file[2])"
   ]
  },
  {
   "cell_type": "code",
   "execution_count": 39,
   "id": "0b121eaa",
   "metadata": {
    "execution": {
     "iopub.execute_input": "2025-02-23T12:44:55.592437Z",
     "iopub.status.busy": "2025-02-23T12:44:55.592437Z",
     "iopub.status.idle": "2025-02-23T12:44:55.686178Z",
     "shell.execute_reply": "2025-02-23T12:44:55.686178Z"
    }
   },
   "outputs": [
    {
     "data": {
      "text/plain": [
       "True"
      ]
     },
     "execution_count": 39,
     "metadata": {},
     "output_type": "execute_result"
    }
   ],
   "source": [
    "model.plot(show=False)"
   ]
  },
  {
   "cell_type": "markdown",
   "id": "f589bd08",
   "metadata": {},
   "source": [
    "## Load far field"
   ]
  },
  {
   "cell_type": "code",
   "execution_count": 40,
   "id": "21c69bd0",
   "metadata": {
    "execution": {
     "iopub.execute_input": "2025-02-23T12:44:55.686178Z",
     "iopub.status.busy": "2025-02-23T12:44:55.686178Z",
     "iopub.status.idle": "2025-02-23T12:44:55.779929Z",
     "shell.execute_reply": "2025-02-23T12:44:55.779929Z"
    }
   },
   "outputs": [],
   "source": [
    "farfield_data = FfdSolutionData(farfield_metadata)"
   ]
  },
  {
   "cell_type": "markdown",
   "id": "10d87096",
   "metadata": {},
   "source": [
    "## Plot far field"
   ]
  },
  {
   "cell_type": "code",
   "execution_count": 41,
   "id": "90e61c41",
   "metadata": {
    "execution": {
     "iopub.execute_input": "2025-02-23T12:44:55.779929Z",
     "iopub.status.busy": "2025-02-23T12:44:55.779929Z",
     "iopub.status.idle": "2025-02-23T12:44:55.920559Z",
     "shell.execute_reply": "2025-02-23T12:44:55.920559Z"
    }
   },
   "outputs": [],
   "source": [
    "data = farfield_data.plot_3d(show=False)"
   ]
  },
  {
   "cell_type": "markdown",
   "id": "f99dd135",
   "metadata": {},
   "source": [
    "## Clean temporary directory"
   ]
  },
  {
   "cell_type": "code",
   "execution_count": 42,
   "id": "7826f235",
   "metadata": {
    "execution": {
     "iopub.execute_input": "2025-02-23T12:44:55.920559Z",
     "iopub.status.busy": "2025-02-23T12:44:55.920559Z",
     "iopub.status.idle": "2025-02-23T12:44:56.108172Z",
     "shell.execute_reply": "2025-02-23T12:44:56.108172Z"
    }
   },
   "outputs": [],
   "source": [
    "temp_dir.cleanup()"
   ]
  }
 ],
 "metadata": {
  "jupytext": {
   "cell_metadata_filter": "-all",
   "main_language": "python",
   "notebook_metadata_filter": "-all",
   "text_representation": {
    "extension": ".py",
    "format_name": "light"
   }
  },
  "language_info": {
   "codemirror_mode": {
    "name": "ipython",
    "version": 3
   },
   "file_extension": ".py",
   "mimetype": "text/x-python",
   "name": "python",
   "nbconvert_exporter": "python",
   "pygments_lexer": "ipython3",
   "version": "3.10.11"
  }
 },
 "nbformat": 4,
 "nbformat_minor": 5
}
